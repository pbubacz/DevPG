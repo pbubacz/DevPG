{
 "cells": [
  {
   "cell_type": "code",
   "execution_count": 1,
   "metadata": {},
   "outputs": [],
   "source": [
    "FILE_NAME='data/docx/sample-docx.docx'"
   ]
  },
  {
   "cell_type": "markdown",
   "metadata": {},
   "source": [
    "Approaches to read the docx file in Python:\n",
    "1. Convert to HTML with mammoth.js and then use BeautifulSoup to parse the HTML\n",
    "2. Use unstructered.io  to extract the text from the docx file"
   ]
  },
  {
   "cell_type": "markdown",
   "metadata": {},
   "source": [
    "# mammoth.js\n"
   ]
  },
  {
   "cell_type": "code",
   "execution_count": null,
   "metadata": {},
   "outputs": [],
   "source": [
    "%pip install mammoth"
   ]
  },
  {
   "cell_type": "code",
   "execution_count": null,
   "metadata": {},
   "outputs": [],
   "source": [
    "import mammoth\n",
    "\n",
    "with open(FILE_NAME, \"rb\") as docx_file:\n",
    "    result = mammoth.convert_to_html(docx_file,)\n",
    "    html = result.value \n",
    "    messages = result.messages \n",
    "    \n",
    "with open(FILE_NAME.replace(\".docx\",\".html\"), \"w\", encoding=\"utf-8\") as html_file:\n",
    "    html_file.write(html)"
   ]
  },
  {
   "cell_type": "markdown",
   "metadata": {},
   "source": [
    "# MarkItDown \n",
    "MarkItDown is a lightweight Python utility for converting various files to Markdown for use with LLMs and related text analysis pipelines. To this end, it is most comparable to [textract](https://github.com/deanmalmgren/textract), but with a focus on preserving important document structure and content as Markdown (including: headings, lists, tables, links, etc.) While the output is often reasonably presentable and human-friendly, it is meant to be consumed by text analysis tools -- and may not be the best option for high-fidelity document conversions for human consumption.\n",
    "\n",
    "At present, MarkItDown supports:\n",
    "\n",
    "- PDF\n",
    "- PowerPoint\n",
    "- Word\n",
    "- Excel\n",
    "- Images (EXIF metadata and OCR)\n",
    "- Audio (EXIF metadata and speech transcription)\n",
    "- HTML\n",
    "- Text-based formats (CSV, JSON, XML)\n",
    "- ZIP files (iterates over contents)\n",
    "- Youtube URLs\n",
    "- EPubs\n",
    "- ... and more! "
   ]
  },
  {
   "cell_type": "code",
   "execution_count": 2,
   "metadata": {},
   "outputs": [
    {
     "name": "stdout",
     "output_type": "stream",
     "text": [
      "Exploring Azure AI Solutions\n",
      "\n",
      "Empowering Businesses with Intelligent Capabilities\n",
      "\n",
      "# Introduction\n",
      "\n",
      "In the rapidly evolving landscape of artificial intelligence, Azure AI solutions stand at the forefront, offering a comprehensive suite of tools and services designed to help businesses harness the power of AI. From natural language processing to computer vision, Azure AI provides a robust and scalable platform for integrating intelligent capabilities into diverse applications.\n",
      "\n",
      "# Key Azure AI Services\n",
      "\n",
      "## Azure Cognitive Services\n",
      "\n",
      "Azure Cognitive Services offer a range of pre-built AI models that can be easily integrated into applications to enhance their functionality. These services include:\n",
      "\n",
      "* Language Understanding (LUIS): Enables applications to understand and process natural language input.\n",
      "* Text Analytics: Provides sentiment analysis, key phrase extraction, and language detection capabilities.\n",
      "* Computer Vision: Analyzes images and videos to extract information and insights, including object detection and facial recognition.\n",
      "* Speech Services: Offers speech-to-text, text-to-speech, and speech translation functionalities.\n",
      "\n",
      "## Azure Machine Learning\n",
      "\n",
      "Azure Machine Learning is a powerful platform for building, training, and deploying machine learning models. It supports the entire machine learning lifecycle, from data preparation to model deployment. Key features include:\n",
      "\n",
      "* Automated Machine Learning: Simplifies the process of creating high-quality models by automating model selection and hyperparameter tuning.\n",
      "* Experimentation: Allows data scientists to run experiments, track their progress, and compare results using a user-friendly interface.\n",
      "* Model Management: Provides tools for managing and monitoring models in production, ensuring they remain accurate and reliable.\n",
      "\n",
      "## Azure Bot Services\n",
      "\n",
      "Azure Bot Services enable the development of intelligent chatbots that can interact with users through various channels, including websites, messaging apps, and voice assistants. Key components include:\n",
      "\n",
      "* Bot Framework: A comprehensive SDK and tools for building and connecting bots.\n",
      "* QnA Maker: A service that creates a knowledge base from existing content and enables bots to answer user questions naturally.\n",
      "* Language Understanding: Integrates with LUIS to give bots the ability to understand and process natural language input.\n",
      "\n",
      "# Industry Applications\n",
      "\n",
      "Azure AI solutions have been adopted across various industries to drive innovation and efficiency. Some notable applications include:\n",
      "\n",
      "## Healthcare\n",
      "\n",
      "In healthcare, Azure AI is used to enhance patient care, streamline operations, and support medical research. Examples include:\n",
      "\n",
      "* Medical Imaging: AI models analyze medical images to assist in diagnosis and treatment planning.\n",
      "* Patient Management: Chatbots and virtual assistants provide patients with information, appointment scheduling, and symptom checking.\n",
      "* Predictive Analytics: Machine learning models predict patient outcomes and identify potential health risks.\n",
      "\n",
      "## Finance\n",
      "\n",
      "In the finance sector, Azure AI helps institutions improve customer service, detect fraud, and make data-driven decisions. Key applications include:\n",
      "\n",
      "* Fraud Detection: AI models analyze transaction data to identify suspicious activities and prevent fraud.\n",
      "* Customer Service: Chatbots and virtual assistants provide customers with account information, support, and personalized recommendations.\n",
      "* Investment Analysis: Machine learning models analyze market trends and provide insights for investment strategies.\n",
      "\n",
      "## Retail\n",
      "\n",
      "Retailers leverage Azure AI to enhance customer experiences, optimize operations, and drive sales. Examples include:\n",
      "\n",
      "* Personalized Recommendations: AI models analyze customer behavior and preferences to provide tailored product recommendations.\n",
      "* Inventory Management: Predictive analytics optimize stock levels and reduce waste.\n",
      "* Customer Insights: Text analytics and sentiment analysis provide insights into customer feedback and reviews.\n",
      "\n",
      "# Future of Azure AI\n",
      "\n",
      "The future of Azure AI is promising, with ongoing advancements in AI research and development. Key trends to watch include:\n",
      "\n",
      "* Edge AI: Deploying AI models at the edge to enable real-time processing and decision-making closer to the data source.\n",
      "* Responsible AI: Ensuring AI systems are fair, transparent, and ethical in their decision-making processes.\n",
      "* AI Integration: Seamlessly integrating AI across various platforms and devices to create cohesive and intelligent ecosystems.\n",
      "\n",
      "# Conclusion\n",
      "\n",
      "Azure AI solutions offer a powerful and versatile platform for businesses to harness the potential of artificial intelligence. With a comprehensive suite of services, robust tools, and industry-specific applications, Azure AI is empowering organizations to innovate and thrive in the digital age. As AI continues to evolve, Azure remains at the forefront, driving the future of intelligent solutions.\n"
     ]
    }
   ],
   "source": [
    "from markitdown import MarkItDown\n",
    "\n",
    "md = MarkItDown() # Set to True to enable plugins\n",
    "result = md.convert(FILE_NAME)\n",
    "print(result.text_content)"
   ]
  },
  {
   "cell_type": "markdown",
   "metadata": {},
   "source": [
    "# unstructered.io"
   ]
  },
  {
   "cell_type": "code",
   "execution_count": null,
   "metadata": {},
   "outputs": [],
   "source": [
    "%pip  install \"unstructured[docx]\""
   ]
  },
  {
   "cell_type": "code",
   "execution_count": null,
   "metadata": {},
   "outputs": [],
   "source": [
    "from unstructured.partition.docx import partition_docx\n",
    "elements = partition_docx(FILE_NAME)\n",
    "print(elements)"
   ]
  },
  {
   "cell_type": "code",
   "execution_count": null,
   "metadata": {},
   "outputs": [],
   "source": [
    "print(\"Number of elements: \", len(elements))\n",
    "for i, element in enumerate(elements):             \n",
    "    if element.category == 'Table':\n",
    "        chunk_text = element.metadata.text_as_html\n",
    "    else:\n",
    "        if element.category == 'Title':\n",
    "            chunk_text = \"# \"+ element.text\n",
    "        else:\n",
    "            chunk_text = element.text \n",
    "    print(f'element {i} ({element.category}): Chunk len ({len(chunk_text)}) {chunk_text[:100]}...') \n",
    "    "
   ]
  },
  {
   "cell_type": "code",
   "execution_count": null,
   "metadata": {},
   "outputs": [],
   "source": [
    "MAX_CHARACTERS = 1500\n",
    "NEW_AFTER_N_CHARS = 2000\n",
    "COMBINE_UNDER_N_CHARS = 100\n",
    "\n",
    "from unstructured.chunking.title import chunk_by_title\n",
    "from unstructured.cleaners.core import clean\n",
    "\n",
    "chunks = chunk_by_title(elements, multipage_sections=True, max_characters=MAX_CHARACTERS, new_after_n_chars=NEW_AFTER_N_CHARS, combine_text_under_n_chars=COMBINE_UNDER_N_CHARS)  \n",
    "\n",
    "out_text = ''\n",
    "chunks_list=[]\n",
    "# Complete and write chunks\n",
    "for i, chunk in enumerate(chunks): \n",
    "            \n",
    "    if chunk.category == 'Table':\n",
    "        chunk_text = chunk.metadata.text_as_html\n",
    "    else:\n",
    "        chunk_text = chunk.text        \n",
    "    chunks_list.append(chunk_text)\n",
    "    print(f'Chunk {i} ({chunk.category}): Chunk len ({len(chunk_text)}) {chunk_text[:100]}...') \n",
    "    out_text += chunk_text\n",
    "                      \n",
    "cleaned_text = clean(out_text, extra_whitespace=True)\n",
    "print(cleaned_text)\n",
    "print(f'Number of chunks: {len(chunks)}')"
   ]
  }
 ],
 "metadata": {
  "kernelspec": {
   "display_name": "Python 3",
   "language": "python",
   "name": "python3"
  },
  "language_info": {
   "codemirror_mode": {
    "name": "ipython",
    "version": 3
   },
   "file_extension": ".py",
   "mimetype": "text/x-python",
   "name": "python",
   "nbconvert_exporter": "python",
   "pygments_lexer": "ipython3",
   "version": "3.12.10"
  }
 },
 "nbformat": 4,
 "nbformat_minor": 2
}
