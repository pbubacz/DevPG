{
 "cells": [
  {
   "cell_type": "code",
   "execution_count": null,
   "metadata": {},
   "outputs": [],
   "source": [
    "FILE_NAME='data/html/sample-html.html'\n"
   ]
  },
  {
   "cell_type": "markdown",
   "metadata": {},
   "source": [
    "# methods for HTML parsing and chunking \n",
    "1. BeautifulSoup\n",
    "2. unstrunctured.io\n",
    "3. langchain "
   ]
  },
  {
   "cell_type": "markdown",
   "metadata": {},
   "source": [
    "# BeautifulSoup"
   ]
  },
  {
   "cell_type": "code",
   "execution_count": null,
   "metadata": {},
   "outputs": [],
   "source": [
    "from bs4 import BeautifulSoup\n",
    "import re\n",
    "\n",
    "with open(FILE_NAME, 'r', encoding='utf-8') as f:\n",
    "        html= f.read()    \n",
    "        soup = BeautifulSoup(html, 'html.parser')\n",
    "        print(soup.prettify())"
   ]
  },
  {
   "cell_type": "markdown",
   "metadata": {},
   "source": [
    "# unstrunctured.io"
   ]
  },
  {
   "cell_type": "code",
   "execution_count": null,
   "metadata": {},
   "outputs": [],
   "source": [
    "from unstructured.partition.auto import partition\n",
    "elements = partition(FILE_NAME)\n",
    "print(elements)"
   ]
  },
  {
   "cell_type": "code",
   "execution_count": null,
   "metadata": {},
   "outputs": [],
   "source": [
    "print(\"Number of elements: \", len(elements))\n",
    "for i, element in enumerate(elements):             \n",
    "    if element.category == 'Table':\n",
    "        chunk_text = element.metadata.text_as_html\n",
    "    else:\n",
    "        if element.category == 'Title':\n",
    "            chunk_text = \"# \"+ element.text\n",
    "        else:\n",
    "            chunk_text = element.text \n",
    "    print(f'element {i} ({element.category}): Chunk len ({len(chunk_text)}) {chunk_text[:100]}...') \n",
    "    "
   ]
  },
  {
   "cell_type": "code",
   "execution_count": null,
   "metadata": {},
   "outputs": [],
   "source": [
    "MAX_CHARACTERS = 1500\n",
    "NEW_AFTER_N_CHARS = 2000\n",
    "COMBINE_UNDER_N_CHARS = 100\n",
    "\n",
    "from unstructured.chunking.title import chunk_by_title\n",
    "from unstructured.cleaners.core import clean\n",
    "\n",
    "chunks = chunk_by_title(elements, multipage_sections=True, max_characters=MAX_CHARACTERS, new_after_n_chars=NEW_AFTER_N_CHARS, combine_text_under_n_chars=COMBINE_UNDER_N_CHARS)  \n",
    "\n",
    "out_text = ''\n",
    "chunks_list=[]\n",
    "# Complete and write chunks\n",
    "for i, chunk in enumerate(chunks): \n",
    "            \n",
    "    if chunk.category == 'Table':\n",
    "        chunk_text = chunk.metadata.text_as_html\n",
    "    else:\n",
    "        chunk_text = chunk.text        \n",
    "    chunks_list.append(chunk_text)\n",
    "    print(f'Chunk {i} ({chunk.category}): Chunk len ({len(chunk_text)}) {chunk_text[:100]}...') \n",
    "    out_text += chunk_text\n",
    "                      \n",
    "cleaned_text = clean(out_text, extra_whitespace=True)\n",
    "print(cleaned_text)\n",
    "print(f'Number of chunks: {len(chunks)}')"
   ]
  },
  {
   "cell_type": "markdown",
   "metadata": {},
   "source": [
    "# langchain"
   ]
  },
  {
   "cell_type": "markdown",
   "metadata": {},
   "source": [
    "## HTML Loader"
   ]
  },
  {
   "cell_type": "code",
   "execution_count": null,
   "metadata": {},
   "outputs": [],
   "source": [
    "from langchain_community.document_loaders import UnstructuredHTMLLoader\n",
    "loader = UnstructuredHTMLLoader(FILE_NAME)\n",
    "data = loader.load()\n",
    "print (data)"
   ]
  },
  {
   "cell_type": "markdown",
   "metadata": {},
   "source": [
    "## Loading HTML with BeautifulSoup4"
   ]
  },
  {
   "cell_type": "code",
   "execution_count": null,
   "metadata": {},
   "outputs": [],
   "source": [
    "from langchain_community.document_loaders import BSHTMLLoader\n",
    "\n",
    "loader_bs4 = BSHTMLLoader(FILE_NAME, open_encoding='utf-8')\n",
    "data_bs4 = loader_bs4.load()\n",
    "data_bs4"
   ]
  },
  {
   "cell_type": "markdown",
   "metadata": {},
   "source": [
    "# Loading HTML with AzureAIDocumentIntelligenceLoader"
   ]
  },
  {
   "cell_type": "code",
   "execution_count": null,
   "metadata": {},
   "outputs": [],
   "source": [
    "#%pip install --upgrade --quiet  langchain langchain-community azure-ai-documentintelligence\n",
    "\n",
    "import os\n",
    "from langchain_community.document_loaders import AzureAIDocumentIntelligenceLoader\n",
    "from dotenv import load_dotenv\n",
    "\n",
    "load_dotenv()\n",
    "\n",
    "endpoint = os.getenv(\"AZURE_DOCUMENT_INTELLIGENCE_ENDPOINT\") \n",
    "key = os.getenv(\"AZURE_DOCUMENT_INTELLIGENCE_ADMIN_KEY\") \n",
    "loader = AzureAIDocumentIntelligenceLoader(\n",
    "    api_endpoint=endpoint, api_key=key, file_path=FILE_NAME, api_model=\"prebuilt-layout\"\n",
    ")\n",
    "\n",
    "documents = loader.load()\n",
    "print(documents)"
   ]
  }
 ],
 "metadata": {
  "kernelspec": {
   "display_name": "Python 3",
   "language": "python",
   "name": "python3"
  },
  "language_info": {
   "codemirror_mode": {
    "name": "ipython",
    "version": 3
   },
   "file_extension": ".py",
   "mimetype": "text/x-python",
   "name": "python",
   "nbconvert_exporter": "python",
   "pygments_lexer": "ipython3",
   "version": "3.10.11"
  }
 },
 "nbformat": 4,
 "nbformat_minor": 2
}
