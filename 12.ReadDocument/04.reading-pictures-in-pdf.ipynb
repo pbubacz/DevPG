{
 "cells": [
  {
   "cell_type": "code",
   "execution_count": null,
   "metadata": {},
   "outputs": [],
   "source": [
    "import os\n",
    "import logging\n",
    "from lib.doc_intelligence import AzureAIDocumentIntelligenceLoader\n",
    "from dotenv import load_dotenv\n",
    "\n",
    "load_dotenv(override=True)\n",
    "logger = logging.getLogger()\n",
    "\n",
    "logging.basicConfig(\n",
    "    level=logging.INFO,\n",
    "    format=\"%(asctime)s [%(levelname)s] %(message)s\",\n",
    "    handlers=[\n",
    "        logging.FileHandler(\"debug.log\"),\n",
    "        logging.StreamHandler()\n",
    "    ]\n",
    ")\n",
    "\n",
    "\n",
    "FILE_NAME='data/pdf/sample-pdf.pdf'\n",
    "loader = AzureAIDocumentIntelligenceLoader(file_path=FILE_NAME, \n",
    "                                               api_endpoint = os.getenv(\"AZURE_DOCUMENT_INTELLIGENCE_ENDPOINT\"), \n",
    "                                               api_key = os.getenv(\"AZURE_DOCUMENT_INTELLIGENCE_ADMIN_KEY\"),\n",
    "                                               api_model=\"prebuilt-layout\",\n",
    "                                               api_version=\"2024-11-30\",\n",
    "                                               mode='markdown',\n",
    "                                               #analysis_features = [DocumentAnalysisFeature.OCR_HIGH_RESOLUTION]\n",
    "                                               )\n",
    "docs = loader.load()\n"
   ]
  },
  {
   "cell_type": "code",
   "execution_count": null,
   "metadata": {},
   "outputs": [],
   "source": [
    "print(docs[0].page_content)"
   ]
  }
 ],
 "metadata": {
  "kernelspec": {
   "display_name": "Python 3",
   "language": "python",
   "name": "python3"
  },
  "language_info": {
   "codemirror_mode": {
    "name": "ipython",
    "version": 3
   },
   "file_extension": ".py",
   "mimetype": "text/x-python",
   "name": "python",
   "nbconvert_exporter": "python",
   "pygments_lexer": "ipython3",
   "version": "3.12.10"
  }
 },
 "nbformat": 4,
 "nbformat_minor": 2
}
