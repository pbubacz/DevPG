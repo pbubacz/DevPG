{
 "cells": [
  {
   "cell_type": "code",
   "execution_count": null,
   "metadata": {},
   "outputs": [],
   "source": [
    "FILE_NAME='data/docx/sample-docx.docx'"
   ]
  },
  {
   "cell_type": "markdown",
   "metadata": {},
   "source": [
    "Approaches to read the docx file in Python:\n",
    "1. Convert to HTML with mammoth.js and then use BeautifulSoup to parse the HTML\n",
    "2. Use unstructered.io  to extract the text from the docx file"
   ]
  },
  {
   "cell_type": "markdown",
   "metadata": {},
   "source": [
    "# mammoth.js\n"
   ]
  },
  {
   "cell_type": "code",
   "execution_count": null,
   "metadata": {},
   "outputs": [],
   "source": [
    "%pip install mammoth"
   ]
  },
  {
   "cell_type": "code",
   "execution_count": null,
   "metadata": {},
   "outputs": [],
   "source": [
    "import mammoth\n",
    "\n",
    "with open(FILE_NAME, \"rb\") as docx_file:\n",
    "    result = mammoth.convert_to_html(docx_file,)\n",
    "    html = result.value \n",
    "    messages = result.messages \n",
    "    \n",
    "with open(FILE_NAME.replace(\".docx\",\".html\"), \"w\", encoding=\"utf-8\") as html_file:\n",
    "    html_file.write(html)"
   ]
  },
  {
   "cell_type": "markdown",
   "metadata": {},
   "source": [
    "# MarkItDown \n",
    "MarkItDown is a lightweight Python utility for converting various files to Markdown for use with LLMs and related text analysis pipelines. To this end, it is most comparable to [textract](https://github.com/deanmalmgren/textract), but with a focus on preserving important document structure and content as Markdown (including: headings, lists, tables, links, etc.) While the output is often reasonably presentable and human-friendly, it is meant to be consumed by text analysis tools -- and may not be the best option for high-fidelity document conversions for human consumption.\n",
    "\n",
    "At present, MarkItDown supports:\n",
    "\n",
    "- PDF\n",
    "- PowerPoint\n",
    "- Word\n",
    "- Excel\n",
    "- Images (EXIF metadata and OCR)\n",
    "- Audio (EXIF metadata and speech transcription)\n",
    "- HTML\n",
    "- Text-based formats (CSV, JSON, XML)\n",
    "- ZIP files (iterates over contents)\n",
    "- Youtube URLs\n",
    "- EPubs\n",
    "- ... and more!"
   ]
  },
  {
   "cell_type": "code",
   "execution_count": null,
   "metadata": {},
   "outputs": [],
   "source": [
    "%pip install markitdown[all]"
   ]
  },
  {
   "cell_type": "code",
   "execution_count": null,
   "metadata": {},
   "outputs": [],
   "source": [
    "from markitdown import MarkItDown\n",
    "\n",
    "md = MarkItDown() # Set to True to enable plugins\n",
    "result = md.convert(FILE_NAME)\n",
    "print(result.text_content)"
   ]
  },
  {
   "cell_type": "markdown",
   "metadata": {},
   "source": [
    "# unstructured.io"
   ]
  },
  {
   "cell_type": "code",
   "execution_count": null,
   "metadata": {},
   "outputs": [],
   "source": [
    "%pip  install \"unstructured[docx]\""
   ]
  },
  {
   "cell_type": "code",
   "execution_count": null,
   "metadata": {},
   "outputs": [],
   "source": [
    "from unstructured.partition.docx import partition_docx\n",
    "elements = partition_docx(FILE_NAME)\n",
    "print(elements)"
   ]
  },
  {
   "cell_type": "code",
   "execution_count": null,
   "metadata": {},
   "outputs": [],
   "source": [
    "print(\"Number of elements: \", len(elements))\n",
    "for i, element in enumerate(elements):             \n",
    "    if element.category == 'Table':\n",
    "        chunk_text = element.metadata.text_as_html\n",
    "    else:\n",
    "        if element.category == 'Title':\n",
    "            chunk_text = \"# \"+ element.text\n",
    "        else:\n",
    "            chunk_text = element.text \n",
    "    print(f'element {i} ({element.category}): Chunk len ({len(chunk_text)}) {chunk_text[:100]}...') \n",
    "    "
   ]
  }
 ],
 "metadata": {
  "kernelspec": {
   "display_name": "Python 3",
   "language": "python",
   "name": "python3"
  },
  "language_info": {
   "codemirror_mode": {
    "name": "ipython",
    "version": 3
   },
   "file_extension": ".py",
   "mimetype": "text/x-python",
   "name": "python",
   "nbconvert_exporter": "python",
   "pygments_lexer": "ipython3",
   "version": "3.12.10"
  }
 },
 "nbformat": 4,
 "nbformat_minor": 2
}
