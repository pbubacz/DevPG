{
 "cells": [
  {
   "cell_type": "markdown",
   "metadata": {},
   "source": [
    "# Prompts\n",
    "\n",
    "In this document you will find a few exercises for practicing prompt engineering. For each exercise, you'll get some input text and then an expected completion. Your task is to write the prompt to achieve the expected completion."
   ]
  },
  {
   "cell_type": "markdown",
   "metadata": {},
   "source": [
    "# Basic\n",
    "You can use basic configuration for the Azure OpenAI API. "
   ]
  },
  {
   "cell_type": "code",
   "execution_count": 36,
   "metadata": {},
   "outputs": [],
   "source": [
    "import os\n",
    "from openai import AzureOpenAI\n",
    "from dotenv import load_dotenv\n",
    "import logging\n",
    "\n",
    "load_dotenv()\n",
    "\n",
    "logger = logging.getLogger()\n",
    "logging.basicConfig(\n",
    "    level=logging.INFO,\n",
    "    format=\"%(asctime)s [%(levelname)s] %(message)s\",\n",
    "    handlers=[\n",
    "        logging.FileHandler(\"debug.log\"),\n",
    "        logging.StreamHandler()\n",
    "    ]\n",
    ")\n",
    "\n",
    "client = AzureOpenAI(\n",
    "    azure_endpoint = os.getenv(\"AZURE_OPENAI_ENDPOINT\"),\n",
    "    api_key = os.getenv(\"AZURE_OPENAI_API_KEY\"),\n",
    "    api_version = os.getenv(\"OPENAI_API_VERSION\")\n",
    ")\n",
    "\n",
    "def get_ai_response(system_prompt, query, temperature=0.2, model=os.getenv(\"AZURE_OPENAI_COMPLETION_MODEL\")): \n",
    "    #logger.info(f\"Getting AI response for query: {query}\")\n",
    "    try:\n",
    "        response = client.chat.completions.create(\n",
    "            model=model,\n",
    "            temperature=temperature,\n",
    "            messages=[\n",
    "                {\"role\": \"system\", \"content\": system_prompt},\n",
    "                {\"role\": \"user\", \"content\": query}   \n",
    "            ]   \n",
    "        )\n",
    "        return response.choices[0].message.content\n",
    "    except Exception as e:\n",
    "        logger.error(f\"Error getting AI response: {e}\")\n",
    "        return f\"Error getting AI response. Try again.\\n{e}\""
   ]
  },
  {
   "cell_type": "markdown",
   "metadata": {},
   "source": [
    "Let's attempt to verify the response to the following question: What is the capital of France?"
   ]
  },
  {
   "cell_type": "code",
   "execution_count": 2,
   "metadata": {},
   "outputs": [
    {
     "name": "stderr",
     "output_type": "stream",
     "text": [
      "2025-04-10 12:14:49,924 [INFO] Getting AI response for query: What is the capital of France?\n",
      "2025-04-10 12:14:50,651 [INFO] HTTP Request: POST https://aoi-sec.openai.azure.com/openai/deployments/gpt-4o-mini/chat/completions?api-version=2024-06-01 \"HTTP/1.1 200 OK\"\n"
     ]
    },
    {
     "name": "stdout",
     "output_type": "stream",
     "text": [
      "The capital of France is Paris.\n"
     ]
    }
   ],
   "source": [
    "print(get_ai_response(\"You are a helpful assistant.\", \"What is the capital of France?\", 0.5))"
   ]
  },
  {
   "cell_type": "markdown",
   "metadata": {},
   "source": [
    "Let's explore how the system prompt influences the output."
   ]
  },
  {
   "cell_type": "code",
   "execution_count": 3,
   "metadata": {},
   "outputs": [
    {
     "name": "stderr",
     "output_type": "stream",
     "text": [
      "2025-04-10 12:18:01,855 [INFO] Getting AI response for query: What is the capital of France?\n",
      "2025-04-10 12:18:03,747 [INFO] HTTP Request: POST https://aoi-sec.openai.azure.com/openai/deployments/gpt-4o-mini/chat/completions?api-version=2024-06-01 \"HTTP/1.1 200 OK\"\n"
     ]
    },
    {
     "name": "stdout",
     "output_type": "stream",
     "text": [
      "The capital of France is Paris. But honestly, if you need to ask that, you might want to reconsider your travel plans. Or at least brush up on your geography.\n"
     ]
    }
   ],
   "source": [
    "print(get_ai_response(\"You're an assistant that responds like Dr. House.\", \"What is the capital of France?\", 0.5))"
   ]
  },
  {
   "cell_type": "markdown",
   "metadata": {},
   "source": [
    "## :question: Exercise 1 - German Translation\n",
    "\n",
    "* Exercise: Write a prompt that generates the expected completion\n",
    "* Input text: `I was enjoying the sun, but then a huge cloud came and covered the sky.`\n",
    "* Expected completion: `Ich genoss die Sonne, aber dann kam eine riesige Wolke und bedeckte den Himmel.`"
   ]
  },
  {
   "cell_type": "code",
   "execution_count": 7,
   "metadata": {},
   "outputs": [
    {
     "name": "stderr",
     "output_type": "stream",
     "text": [
      "2025-04-10 12:29:26,591 [INFO] Getting AI response for query: I was enjoying the sun, but then a huge cloud came and covered the sky.\n",
      "2025-04-10 12:29:27,532 [INFO] HTTP Request: POST https://aoi-sec.openai.azure.com/openai/deployments/gpt-4o-mini/chat/completions?api-version=2024-06-01 \"HTTP/1.1 200 OK\"\n"
     ]
    },
    {
     "name": "stdout",
     "output_type": "stream",
     "text": [
      "Ich genoss die Sonne, aber dann kam eine riesige Wolke und bedeckte den Himmel.\n"
     ]
    }
   ],
   "source": [
    "print(get_ai_response(\"Translate into German.\", \"I was enjoying the sun, but then a huge cloud came and covered the sky.\"))"
   ]
  },
  {
   "cell_type": "markdown",
   "metadata": {},
   "source": [
    "## :question: Exercise 2 - Negation\n",
    "\n",
    "* Exercise: Write a prompt that generates the expected completion\n",
    "* Input text: `I was enjoying the sun, but then a huge cloud came and covered the sky.`\n",
    "* Expected completion: `I was not enjoying the sun, and then a huge cloud did not come and cover the sky.`"
   ]
  },
  {
   "cell_type": "code",
   "execution_count": 16,
   "metadata": {},
   "outputs": [
    {
     "name": "stderr",
     "output_type": "stream",
     "text": [
      "2025-04-10 12:36:49,251 [INFO] Getting AI response for query: I was enjoying the sun, but then a huge cloud came and covered the sky.\n",
      "2025-04-10 12:36:51,089 [INFO] HTTP Request: POST https://aoi-sec.openai.azure.com/openai/deployments/gpt-4o-mini/chat/completions?api-version=2024-06-01 \"HTTP/1.1 200 OK\"\n"
     ]
    },
    {
     "name": "stdout",
     "output_type": "stream",
     "text": [
      "1. I was not enjoying the sun, and a huge cloud did not come and cover the sky.\n",
      "2. I was not having a pleasant time in the sun, and the sky remained clear without any clouds.\n",
      "3. I was not reveling in the sunlight, and no massive cloud appeared to obscure the sky.\n",
      "4. I was not appreciating the warmth of the sun, and a large cloud didn't come to block the sky.\n",
      "5. I wasn't soaking up the sun, and a giant cloud didn't interfere with the clear sky.\n"
     ]
    }
   ],
   "source": [
    "print(get_ai_response(\"Convert this into negation. Give 5 options\", \"I was enjoying the sun, but then a huge cloud came and covered the sky.\", 1))"
   ]
  },
  {
   "cell_type": "code",
   "execution_count": 19,
   "metadata": {},
   "outputs": [
    {
     "name": "stderr",
     "output_type": "stream",
     "text": [
      "2025-04-10 12:37:59,138 [INFO] Getting AI response for query: I was enjoying the sun, but then a huge cloud came and covered the sky.\n",
      "2025-04-10 12:38:02,919 [INFO] HTTP Request: POST https://aoi-sec.openai.azure.com/openai/deployments/gpt-4o-mini/chat/completions?api-version=2024-06-01 \"HTTP/1.1 200 OK\"\n"
     ]
    },
    {
     "name": "stdout",
     "output_type": "stream",
     "text": [
      "1. I was not enjoying the sun, and a huge cloud did not come to cover the sky.\n",
      "2. I was enjoying the sun, but a huge cloud did not come and cover the sky.\n",
      "3. I was not enjoying the sun, and a huge cloud came and covered the sky.\n",
      "4. I was enjoying the sun, but then there was no huge cloud that came and covered the sky.\n",
      "5. I was not enjoying the sun, nor did a huge cloud come and cover the sky.\n"
     ]
    }
   ],
   "source": [
    "print(get_ai_response(\"Convert this into negation. Give 5 options\", \"I was enjoying the sun, but then a huge cloud came and covered the sky.\", 1))"
   ]
  },
  {
   "cell_type": "code",
   "execution_count": 9,
   "metadata": {},
   "outputs": [
    {
     "name": "stderr",
     "output_type": "stream",
     "text": [
      "2025-04-10 12:33:18,350 [INFO] Getting AI response for query: I was enjoying the sun, but then a huge cloud came and covered the sky.\n",
      "2025-04-10 12:33:19,150 [INFO] HTTP Request: POST https://aoi-sec.openai.azure.com/openai/deployments/gpt-4o-mini/chat/completions?api-version=2024-06-01 \"HTTP/1.1 200 OK\"\n"
     ]
    },
    {
     "name": "stdout",
     "output_type": "stream",
     "text": [
      "I was not enjoying the sun, and then a huge cloud did not come and did not cover the sky.\n"
     ]
    }
   ],
   "source": [
    "print(get_ai_response(\"Negate the following sentence.\", \"I was enjoying the sun, but then a huge cloud came and covered the sky.\"))"
   ]
  },
  {
   "cell_type": "markdown",
   "metadata": {},
   "source": [
    "## :question: Exercise 3 - Classification\n",
    "\n",
    "* Exercise: Write a prompt that generates the expected completion\n",
    "* Input text: `Not much to write about here, but it does exactly what it's supposed to. filters out the pop sounds. now my recordings are much more crisp. it is one of the lowest prices pop filters on amazon so might as well buy it, they honestly work the same despite their pricing.`\n",
    "* Expected completion (or similar):\n",
    "  ``` \n",
    "  Positive: 0.75\n",
    "  Neutral: 0.20\n",
    "  Negative: 0.05\n",
    "\n",
    "  Sentiment - "
   ]
  },
  {
   "cell_type": "code",
   "execution_count": 22,
   "metadata": {},
   "outputs": [
    {
     "name": "stderr",
     "output_type": "stream",
     "text": [
      "2025-04-10 12:44:20,566 [INFO] Getting AI response for query: Not much to write about here, but it does exactly what it's supposed to. filters out the pop sounds. now my recordings are much more crisp. it is one of the lowest prices pop filters on amazon so might as well buy it, they honestly work the same despite their pricing.\n",
      "2025-04-10 12:44:21,659 [INFO] HTTP Request: POST https://aoi-sec.openai.azure.com/openai/deployments/gpt-4o-mini/chat/completions?api-version=2024-06-01 \"HTTP/1.1 200 OK\"\n"
     ]
    },
    {
     "name": "stdout",
     "output_type": "stream",
     "text": [
      "Positive: 0.85  \n",
      "Neutral: 0.10  \n",
      "Negative: 0.05\n"
     ]
    }
   ],
   "source": [
    "print(get_ai_response(\"Evaluate the content in categories, Positive:, Neutral:, Negative: (from 0.00-1.00)\",\"Not much to write about here, but it does exactly what it's supposed to. filters out the pop sounds. now my recordings are much more crisp. it is one of the lowest prices pop filters on amazon so might as well buy it, they honestly work the same despite their pricing.\"))"
   ]
  },
  {
   "cell_type": "code",
   "execution_count": 25,
   "metadata": {},
   "outputs": [
    {
     "name": "stderr",
     "output_type": "stream",
     "text": [
      "2025-04-10 12:46:43,324 [INFO] Getting AI response for query: Not much to write about here, but it does exactly what it's supposed to. filters out the pop sounds. now my recordings are much more crisp. it is one of the lowest prices pop filters on amazon so might as well buy it, they honestly work the same despite their pricing.\n",
      "2025-04-10 12:46:43,879 [INFO] HTTP Request: POST https://aoi-sec.openai.azure.com/openai/deployments/gpt-4o-mini/chat/completions?api-version=2024-06-01 \"HTTP/1.1 200 OK\"\n"
     ]
    },
    {
     "name": "stdout",
     "output_type": "stream",
     "text": [
      "The sentiment of the product review is positive. \n",
      "\n",
      "Probability:\n",
      "- Positive: 85%\n",
      "- Neutral: 10%\n",
      "- Negative: 5%\n"
     ]
    }
   ],
   "source": [
    "print(get_ai_response(\"Decide whether the product review's sentiment is positive, neutral or negative. Show the probability for positive, neutral and negative sentiment.\",\"Not much to write about here, but it does exactly what it's supposed to. filters out the pop sounds. now my recordings are much more crisp. it is one of the lowest prices pop filters on amazon so might as well buy it, they honestly work the same despite their pricing.\"))\n"
   ]
  },
  {
   "cell_type": "code",
   "execution_count": null,
   "metadata": {},
   "outputs": [
    {
     "name": "stderr",
     "output_type": "stream",
     "text": [
      "2025-04-10 12:50:13,115 [INFO] Getting AI response for query: Satya Nadella email to employees: Bringing the joy and community of gaming to everyone\n",
      "January 18, 2022 | Microsoft News Center\n",
      "Share on Facebook (opens new window)\n",
      " \n",
      "Share on LinkedIn (opens new window)\n",
      " \n",
      "Share on X (opens new window)\n",
      "From: Satya Nadella\n",
      "Sent: Tuesday, January 18, 2022 5:33 AM\n",
      "To: Microsoft – All Employees; All MS Store Employees FTE\n",
      "Subject: Bringing the joy and community of gaming to everyone\n",
      "\n",
      "Team,\n",
      "\n",
      "I’m thrilled to share that this morning we announced an agreement to acquire Activision Blizzard in an all-cash transaction valued at $68.7 billion. Activision Blizzard is one of the largest game publishers worldwide across console, PC and mobile, and it’s home to nearly 400 million monthly active players, along with iconic games including Call of Duty, Candy Crush, World of Warcraft and Diablo.\n",
      "\n",
      "Gaming has been key to Microsoft since our earliest days as a company. Today, it’s the largest and fastest-growing form of entertainment, and as the digital and physical worlds come together, it will play a critical role in the development of metaverse platforms.\n",
      "\n",
      "Together with Activision Blizzard, we believe we have an incredible opportunity to bring the joy and community of gaming to everyone on the planet, and we will invest and innovate to create the best content, community and cloud for gamers. We want to make it easier for people to connect and play great games wherever, whenever and however they want.\n",
      "\n",
      "This agreement is a testament to the impact our gaming team has delivered, and I am deeply grateful for their hard work and commitment. Over the past few years, we’ve expanded our content pipeline and have become leaders in game subscriptions, as well as cloud gaming. And this holiday it was especially gratifying to see the response from fans and read the great reviews of our new first-party titles.\n",
      "\n",
      "Effective today, Phil Spencer will become CEO, Microsoft Gaming. When the acquisition closes, the Activision Blizzard business will report to Phil. We look forward to extending our journey to create a more diverse and inclusive culture to our new colleagues at Activision Blizzard, and ensuring all our employees can do what they love, while thriving in a safe and welcoming environment — one where everyone feels empowered to do their best work.\n",
      "\n",
      "I will be hosting a webcast with investors at 6 a.m. PT with Phil and Amy, as well as Bobby Kotick, the CEO of Activision Blizzard, to share more details on our big ambitions for gaming. Please join if you can.\n",
      "\n",
      "Satya\n",
      "2025-04-10 12:50:15,425 [INFO] HTTP Request: POST https://aoi-sec.openai.azure.com/openai/deployments/gpt-4o-mini/chat/completions?api-version=2024-06-01 \"HTTP/1.1 200 OK\"\n"
     ]
    },
    {
     "name": "stdout",
     "output_type": "stream",
     "text": [
      "In an email to Microsoft employees, CEO Satya Nadella announced the acquisition of Activision Blizzard for $68.7 billion, emphasizing its significance in the gaming industry. He highlighted that Activision Blizzard is a major game publisher with a vast player base and popular titles. Nadella expressed the company's commitment to enhancing the gaming experience by investing in content, community, and cloud services, aiming to make gaming more accessible. He also mentioned the appointment of Phil Spencer as CEO of Microsoft Gaming and the intention to foster a diverse and inclusive culture within the new team. A webcast with investors was scheduled to discuss further details about their gaming ambitions.\n"
     ]
    }
   ],
   "source": [
    "mail=\"\"\"Satya Nadella email to employees: Bringing the joy and community of gaming to everyone\n",
    "January 18, 2022 | Microsoft News Center\n",
    "Share on Facebook (opens new window)\n",
    " \n",
    "Share on LinkedIn (opens new window)\n",
    " \n",
    "Share on X (opens new window)\n",
    "From: Satya Nadella\n",
    "Sent: Tuesday, January 18, 2022 5:33 AM\n",
    "To: Microsoft – All Employees; All MS Store Employees FTE\n",
    "Subject: Bringing the joy and community of gaming to everyone\n",
    "\n",
    "Team,\n",
    "\n",
    "I’m thrilled to share that this morning we announced an agreement to acquire Activision Blizzard in an all-cash transaction valued at $68.7 billion. Activision Blizzard is one of the largest game publishers worldwide across console, PC and mobile, and it’s home to nearly 400 million monthly active players, along with iconic games including Call of Duty, Candy Crush, World of Warcraft and Diablo.\n",
    "\n",
    "Gaming has been key to Microsoft since our earliest days as a company. Today, it’s the largest and fastest-growing form of entertainment, and as the digital and physical worlds come together, it will play a critical role in the development of metaverse platforms.\n",
    "\n",
    "Together with Activision Blizzard, we believe we have an incredible opportunity to bring the joy and community of gaming to everyone on the planet, and we will invest and innovate to create the best content, community and cloud for gamers. We want to make it easier for people to connect and play great games wherever, whenever and however they want.\n",
    "\n",
    "This agreement is a testament to the impact our gaming team has delivered, and I am deeply grateful for their hard work and commitment. Over the past few years, we’ve expanded our content pipeline and have become leaders in game subscriptions, as well as cloud gaming. And this holiday it was especially gratifying to see the response from fans and read the great reviews of our new first-party titles.\n",
    "\n",
    "Effective today, Phil Spencer will become CEO, Microsoft Gaming. When the acquisition closes, the Activision Blizzard business will report to Phil. We look forward to extending our journey to create a more diverse and inclusive culture to our new colleagues at Activision Blizzard, and ensuring all our employees can do what they love, while thriving in a safe and welcoming environment — one where everyone feels empowered to do their best work.\n",
    "\n",
    "I will be hosting a webcast with investors at 6 a.m. PT with Phil and Amy, as well as Bobby Kotick, the CEO of Activision Blizzard, to share more details on our big ambitions for gaming. Please join if you can.\n",
    "\n",
    "Satya\"\"\"\n",
    "\n",
    "print(get_ai_response(\"Summarize the email. I'm customer whay is the impact of this acquisition on gaming?\", mail))"
   ]
  },
  {
   "cell_type": "markdown",
   "metadata": {},
   "source": [
    "## :question: Exercise 5 - Rewriting\n",
    "\n",
    "* Exercise: Write a prompt that generates the expected completion\n",
    "* Input text: `I was enjoying the sun, but then a huge cloud came and covered the sky.`\n",
    "* Expected completion: `She was enjoying the sun, but then a huge cloud came and covered the sky.`"
   ]
  },
  {
   "cell_type": "code",
   "execution_count": 32,
   "metadata": {},
   "outputs": [
    {
     "name": "stderr",
     "output_type": "stream",
     "text": [
      "2025-04-10 12:55:40,610 [INFO] Getting AI response for query: I was enjoying the sun, but then a huge cloud came and covered the sky.\n",
      "2025-04-10 12:55:41,582 [INFO] HTTP Request: POST https://aoi-sec.openai.azure.com/openai/deployments/gpt-4o-mini/chat/completions?api-version=2024-06-01 \"HTTP/1.1 200 OK\"\n"
     ]
    },
    {
     "name": "stdout",
     "output_type": "stream",
     "text": [
      "She was enjoying the sun, but then a huge cloud came and covered the sky.\n"
     ]
    }
   ],
   "source": [
    "print(get_ai_response(\"Write given sentence in a third person perspective, assuming the person is a female\",\"I was enjoying the sun, but then a huge cloud came and covered the sky.\"))"
   ]
  },
  {
   "cell_type": "markdown",
   "metadata": {},
   "source": [
    "## :question: Exercise 6 - Multiple Tasks\n",
    "\n",
    "* Exercise: Write a prompt that generates the expected completion\n",
    "* Input text: `I was enjoying the sun, but then a huge cloud came and covered the sky.`\n",
    "* Expected completion:\n",
    "  ```\n",
    "  {\n",
    "      \"translated\": \"Ich genoss die Sonne, aber dann kam eine riesige Wolke und bedeckte den Himmel.\",\n",
    "      \"negated\": \"I was not enjoying the sun, and no huge cloud came and covered the sky.\",\n",
    "      \"third_person\": \"She was enjoying the sun, but then a huge cloud came and covered the sky.\"\n",
    "  }\n",
    "  ```"
   ]
  },
  {
   "cell_type": "code",
   "execution_count": 33,
   "metadata": {},
   "outputs": [
    {
     "name": "stderr",
     "output_type": "stream",
     "text": [
      "2025-04-10 13:02:03,968 [INFO] Getting AI response for query: I was enjoying the sun, but then a huge cloud came and covered the sky.\n",
      "2025-04-10 13:02:05,584 [INFO] HTTP Request: POST https://aoi-sec.openai.azure.com/openai/deployments/gpt-4o-mini/chat/completions?api-version=2024-06-01 \"HTTP/1.1 200 OK\"\n"
     ]
    },
    {
     "name": "stdout",
     "output_type": "stream",
     "text": [
      "```json\n",
      "{\n",
      "  \"translated\": \"Ich genoss die Sonne, aber dann kam eine riesige Wolke und bedeckte den Himmel.\",\n",
      "  \"negated\": \"I was not enjoying the sun, and then a huge cloud did not come and did not cover the sky.\",\n",
      "  \"third_person\": \"She was enjoying the sun, but then a huge cloud came and covered the sky.\"\n",
      "}\n",
      "```\n"
     ]
    }
   ],
   "source": [
    "prompt=\"\"\"\n",
    "Write given sentence in 3 forms:\n",
    "1. Translate into German.\n",
    "2. Convert into negation.\n",
    "3. Write in third person perspective, assuming the person is a female.\n",
    "\n",
    "Output must be in JSON format. The JSON object should have the following keys: \"translated\", \"negated\", \"third_person\".\n",
    "\"\"\"\n",
    "print(get_ai_response(prompt,\"I was enjoying the sun, but then a huge cloud came and covered the sky.\"))"
   ]
  },
  {
   "cell_type": "markdown",
   "metadata": {},
   "source": [
    "## :question: Exercise 7 - Data extraction to JSON\n",
    "\n",
    "* Exercise: Write a prompt that generates the expected completion\n",
    "* Input text:\n",
    "  ```\n",
    "  Hello, my name is Mateo Gomez. I lost my Credit card on August 17th, and I would like to request its cancellation. The last purchase I made was of a Chicken parmigiana dish at Contoso Restaurant, located near the Hollywood Museum, for $40. Below is my personal information for validation:\n",
    "  Profession: Accountant\n",
    "  Social Security number is 123-45-6789\n",
    "  Date of birth: 9-9-1989\n",
    "  Phone number: 949-555-0110\n",
    "  Personal address: 1234 Hollywood Boulevard Los Angeles CA\n",
    "  Linked email account: mateo@contosorestaurant.com\n",
    "  Swift code: CHASUS33XXX\n",
    "  ```\n",
    "* Expected completion:\n",
    "  ```\n",
    "  {\n",
    "      \"reason\": \"Lost card\",\n",
    "      \"classified_reason\": \"lost_card\",\n",
    "      \"name\": \"Mateo Gomez\",\n",
    "      \"ssn\": \"123-45-6789\",\n",
    "      \"dob\": \"09/09/1989\"\n",
    "  }\n",
    "  ```\n"
   ]
  },
  {
   "cell_type": "code",
   "execution_count": null,
   "metadata": {},
   "outputs": [
    {
     "name": "stderr",
     "output_type": "stream",
     "text": [
      "2025-04-10 14:20:57,201 [INFO] HTTP Request: POST https://aoi-sec.openai.azure.com/openai/deployments/gpt-4o-mini/chat/completions?api-version=2024-06-01 \"HTTP/1.1 200 OK\"\n"
     ]
    },
    {
     "name": "stdout",
     "output_type": "stream",
     "text": [
      "```json\n",
      "{\n",
      "  \"reason\": \"I lost my Credit card and I would like to request its cancellation.\",\n",
      "  \"classified_reason\": \"lost_card\",\n",
      "  \"name\": \"Mateo Gomez\",\n",
      "  \"ssn\": \"unknown\",\n",
      "  \"dob\": \"09/09/1989\"\n",
      "}\n",
      "```\n"
     ]
    }
   ],
   "source": [
    "system_prompt=\"\"\"\n",
    "Output json with parameters: reason, classified_reason (can be one of \"lost_card\", \"account_closure\", \"address_change\" or \"unknown\"), name, ssn, dob (MM/DD/YYYY).. Use below text, to extract data to defined parameters.\n",
    "\"\"\"\n",
    "\n",
    "user_prompt=\"\"\"Hello, my name is Mateo Gomez. I lost my Credit card on August 17th, and I would like to request its cancellation. The last purchase I made was of a Chicken parmigiana dish at Contoso Restaurant, located near the Hollywood Museum, for $40. Below is my personal information for validation:\n",
    "  Profession: Accountant\n",
    "  Social Security number is 123-45-6789\n",
    "  Date of birth: 9-9-1989\n",
    "  Phone number: 949-555-0110\n",
    "  Personal address: 1234 Hollywood Boulevard Los Angeles CA\n",
    "  Linked email account: mateo@contosorestaurant.com\n",
    "  Swift code: CHASUS33XXX\"\"\"\n",
    "\n",
    "print(get_ai_response(system_prompt,user_prompt))"
   ]
  }
 ],
 "metadata": {
  "kernelspec": {
   "display_name": "Python 3",
   "language": "python",
   "name": "python3"
  },
  "language_info": {
   "codemirror_mode": {
    "name": "ipython",
    "version": 3
   },
   "file_extension": ".py",
   "mimetype": "text/x-python",
   "name": "python",
   "nbconvert_exporter": "python",
   "pygments_lexer": "ipython3",
   "version": "3.12.10"
  }
 },
 "nbformat": 4,
 "nbformat_minor": 2
}
